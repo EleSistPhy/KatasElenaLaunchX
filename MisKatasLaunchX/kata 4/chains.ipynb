{
 "cells": [
  {
   "cell_type": "markdown",
   "metadata": {},
   "source": [
    "# Ejercicio 1: Transformar cadenas\n"
   ]
  },
  {
   "cell_type": "code",
   "execution_count": 380,
   "metadata": {},
   "outputs": [
    {
     "data": {
      "text/plain": [
       "['Interesting facts about the Moon',\n",
       " \"The Moon is Earth's only satellite\",\n",
       " 'There are several interesting facts about the Moon and how it affects life here on Earth',\n",
       " 'On average, the Moon moves 4cm away from the Earth every year',\n",
       " 'This yearly drift is not significant enough to cause immediate effects on Earth',\n",
       " 'The highest daylight temperature of the Moon is 127 C.']"
      ]
     },
     "execution_count": 380,
     "metadata": {},
     "output_type": "execute_result"
    }
   ],
   "source": [
    "# Dividiendo el texto\n",
    "text = \"\"\"Interesting facts about the Moon. The Moon is Earth's only satellite. There are several interesting facts about the Moon and how it affects life here on Earth. On average, the Moon moves 4cm away from the Earth every year. This yearly drift is not significant enough to cause immediate effects on Earth. The highest daylight temperature of the Moon is 127 C.\"\"\"\n",
    "text_div = text.split('. ' )\n",
    "text_div\n",
    "\n",
    "\n",
    "\n",
    "\n",
    "\n"
   ]
  },
  {
   "cell_type": "code",
   "execution_count": 381,
   "metadata": {},
   "outputs": [],
   "source": [
    "# palabras clave\n",
    "palabras_clave = [\"satellite\", \"average\", \"temperature\", \"distance\"]"
   ]
  },
  {
   "cell_type": "code",
   "execution_count": 379,
   "metadata": {},
   "outputs": [
    {
     "name": "stdout",
     "output_type": "stream",
     "text": [
      "The Moon is Earth's only satellite\n",
      "On average, the Moon moves 4cm away from the Earth every year\n",
      "The highest daylight temperature of the Moon is 127 C.\n"
     ]
    }
   ],
   "source": [
    "# Bucle para imprimir datos sobre la Luna relacionados con las palabras clave\n",
    "\n",
    "for sentence in text_div:\n",
    "    for key_word in palabras_clave:\n",
    "        if key_word in sentence:\n",
    "            print(sentence)\n",
    "            break"
   ]
  },
  {
   "cell_type": "code",
   "execution_count": 335,
   "metadata": {},
   "outputs": [
    {
     "name": "stdout",
     "output_type": "stream",
     "text": [
      "The highest daylight temperature of the Moon is 127 Celsius.\n"
     ]
    }
   ],
   "source": [
    "# ciclo para cambiar C a Celsius\n",
    "caracter_clave = [\"C\"]\n",
    "for sentence in text_div:\n",
    "    for key_word in caracter_clave:\n",
    "        if key_word in sentence:\n",
    "            print(sentence.replace('C', 'Celsius'))\n",
    "            break"
   ]
  },
  {
   "cell_type": "markdown",
   "metadata": {},
   "source": [
    "# Ejercicio 2: Formateado de cadenas\n"
   ]
  },
  {
   "cell_type": "code",
   "execution_count": 343,
   "metadata": {},
   "outputs": [],
   "source": [
    "# Datos con los que vamos a trabajar\n",
    "\n",
    "planeta = \"Tierra\"\n",
    "gravedad  = round(0.00162*1000, 2)\n",
    "nombre = \"Luna\"\n",
    "\n",
    "# Creamos el título\n",
    "title = f'datos de gravedad sobre: {nombre}'\n",
    "\n",
    "\n"
   ]
  },
  {
   "cell_type": "code",
   "execution_count": 344,
   "metadata": {},
   "outputs": [],
   "source": [
    "# creamos plantilla\n",
    "informacion = f\"\"\"{'*'*85}\n",
    "Nombre del planeta: {planeta}\n",
    "Gravedad en {nombre}: {gravedad} m/s2\"\"\""
   ]
  },
  {
   "cell_type": "code",
   "execution_count": 345,
   "metadata": {},
   "outputs": [
    {
     "name": "stdout",
     "output_type": "stream",
     "text": [
      "Datos De Gravedad Sobre: Luna\n",
      "*************************************************************************************\n",
      "Nombre del planeta: Tierra\n",
      "Gravedad en Luna: 1.62 m/s2\n"
     ]
    }
   ],
   "source": [
    "# imprimimos titulo y datos\n",
    "datos_gravedad = f\"\"\"{title.title()}\n",
    "{informacion}\"\"\"\n",
    "print(datos_gravedad)"
   ]
  },
  {
   "cell_type": "code",
   "execution_count": 346,
   "metadata": {},
   "outputs": [
    {
     "name": "stdout",
     "output_type": "stream",
     "text": [
      "*************************************************************************************\n",
      "Nombre del planeta: Tierra\n",
      "Gravedad en Luna: 1.62 m/s2\n"
     ]
    }
   ],
   "source": [
    "#plantilla de prueba de nuevos datos fallida/ da los datos de Luna\n",
    "\n",
    "planeta = \"Marte\"\n",
    "gravedad = round(0.00143*1000, 2)\n",
    "nombre = \"Gaminedes\"\n",
    "\n",
    "print(informacion)"
   ]
  },
  {
   "cell_type": "code",
   "execution_count": 374,
   "metadata": {},
   "outputs": [
    {
     "name": "stdout",
     "output_type": "stream",
     "text": [
      "\n",
      "Datos de Gravedad sobre: Ganimedes\n",
      "-------------------------------------------------------------------\n",
      "Nombre del planeta: Marte\n",
      "Gravedad en Ganimedes: 1.43 m/s2\n"
     ]
    }
   ],
   "source": [
    "# platilla de prueba para ingresar datos de otro planeta usando .format()\n",
    "\n",
    "\n",
    "planeta = \"Marte\"\n",
    "gravedad  = round(0.00143*1000, 2)\n",
    "nombre = \"Ganimedes\"\n",
    "\n",
    "nueva_informacion = \"\"\"\n",
    "Datos de Gravedad sobre: {nombre}\n",
    "-------------------------------------------------------------------\n",
    "Nombre del planeta: {planeta}\n",
    "Gravedad en {nombre}: {gravedad} m/s2\"\"\"\n",
    "\n",
    "print(nueva_informacion.format(nombre=\"Ganimedes\", planeta=\"Marte\", gravedad= round(0.00143*1000, 2)))\n",
    "\n",
    "\n",
    "\n"
   ]
  },
  {
   "cell_type": "code",
   "execution_count": 357,
   "metadata": {},
   "outputs": [
    {
     "name": "stdout",
     "output_type": "stream",
     "text": [
      "Datos De Gravedad Sobre: Ganimedes\n",
      "*************************************************************************************\n",
      "Nombre del planeta: Marte\n",
      "Gravedad en Ganimedes: 1430.0 m/s2\n"
     ]
    }
   ],
   "source": [
    "# platilla de prueba para ingresar datos de otro planeta/ otro modo de resolverlo\n",
    "\n",
    "planeta = \"Marte\"\n",
    "gravedad  = round(0.00143*1000, 2)\n",
    "nombre = \"Ganimedes\"\n",
    "\n",
    "title = f'datos de gravedad sobre: {nombre}'\n",
    "informacion = f\"\"\"{'*'*85}\n",
    "Nombre del planeta: {planeta}\n",
    "Gravedad en {nombre}: {gravedad * 1000} m/s2\"\"\"\n",
    "\n",
    "datos_gravedad = f\"\"\"{title.title()}\n",
    "{informacion}\"\"\"\n",
    "print(datos_gravedad)\n",
    "\n",
    "\n"
   ]
  }
 ],
 "metadata": {
  "interpreter": {
   "hash": "323dd8c1eab61c643a1d5c16cfd9bbb9ca17dbbf95ae354016c0c3942bbccd1a"
  },
  "kernelspec": {
   "display_name": "Python 3.10.2 64-bit (windows store)",
   "language": "python",
   "name": "python3"
  },
  "language_info": {
   "codemirror_mode": {
    "name": "ipython",
    "version": 3
   },
   "file_extension": ".py",
   "mimetype": "text/x-python",
   "name": "python",
   "nbconvert_exporter": "python",
   "pygments_lexer": "ipython3",
   "version": "3.10.2"
  },
  "orig_nbformat": 4
 },
 "nbformat": 4,
 "nbformat_minor": 2
}
