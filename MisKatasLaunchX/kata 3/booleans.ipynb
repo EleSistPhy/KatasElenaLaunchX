{
 "cells": [
  {
   "cell_type": "markdown",
   "metadata": {},
   "source": [
    "# Escribir declaraciones if, else y elif"
   ]
  },
  {
   "cell_type": "code",
   "execution_count": 30,
   "metadata": {},
   "outputs": [
    {
     "name": "stdout",
     "output_type": "stream",
     "text": [
      "Sigue con tu café, todo marcha bien\n"
     ]
    }
   ],
   "source": [
    "vel_asteroide = 49\n",
    "if vel_asteroide < 25: \n",
    "   print(\"¡A sus puestos! ¡La tierra está en peligro!\")\n",
    "else:\n",
    "   print(\"Sigue con tu café, todo marcha bien\")"
   ]
  },
  {
   "cell_type": "code",
   "execution_count": 32,
   "metadata": {},
   "outputs": [
    {
     "name": "stdout",
     "output_type": "stream",
     "text": [
      "Todo está bien, continúen con sus actividades\n"
     ]
    }
   ],
   "source": [
    "vel_asteroide = 19\n",
    "if vel_asteroide > 20:\n",
    "    print(\"¡Miren hacia el cielo!, ese rayo de luz es un asteroide\")\n",
    "elif vel_asteroide == 20:\n",
    "    print(\"Es posible observar un rayo de luz desde la Tierra, se trata de un asteroide\")\n",
    "else:\n",
    "    print(\"Todo está bien, continúen con sus actividades\")"
   ]
  },
  {
   "cell_type": "markdown",
   "metadata": {},
   "source": [
    "# Ejercicio: Uso de operadores and y or"
   ]
  },
  {
   "cell_type": "code",
   "execution_count": 35,
   "metadata": {},
   "outputs": [
    {
     "name": "stdout",
     "output_type": "stream",
     "text": [
      "¡Observa el rayo de luz en el cielo!\n"
     ]
    }
   ],
   "source": [
    "vel_asteroide = 19\n",
    "vel_ast_atmosfera = 23\n",
    "size_asteroide = 35 \n",
    "if vel_asteroide >= 25 and size_asteroide >= 25:\n",
    "    print(\"¡Alerta! ¡La tierra está en peligro de ser impactada por un asteroide!\")\n",
    "elif vel_ast_atmosfera >= 20 and vel_ast_atmosfera <= 24:\n",
    "    print(\"¡Observa el rayo de luz en el cielo!\")\n",
    "else:\n",
    "    print(\"Todo se encuentra en la normalidad\")\n",
    " \n"
   ]
  }
 ],
 "metadata": {
  "interpreter": {
   "hash": "323dd8c1eab61c643a1d5c16cfd9bbb9ca17dbbf95ae354016c0c3942bbccd1a"
  },
  "kernelspec": {
   "display_name": "Python 3.10.2 64-bit (windows store)",
   "language": "python",
   "name": "python3"
  },
  "language_info": {
   "codemirror_mode": {
    "name": "ipython",
    "version": 3
   },
   "file_extension": ".py",
   "mimetype": "text/x-python",
   "name": "python",
   "nbconvert_exporter": "python",
   "pygments_lexer": "ipython3",
   "version": "3.10.2"
  },
  "orig_nbformat": 4
 },
 "nbformat": 4,
 "nbformat_minor": 2
}
