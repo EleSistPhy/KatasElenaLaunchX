{
 "cells": [
  {
   "cell_type": "markdown",
   "metadata": {},
   "source": [
    "Ejercicio 1. Crear y usar listas de Python"
   ]
  },
  {
   "cell_type": "code",
   "execution_count": 27,
   "metadata": {},
   "outputs": [
    {
     "name": "stdout",
     "output_type": "stream",
     "text": [
      "There are 8 planets in the solar system\n"
     ]
    }
   ],
   "source": [
    "# Crear la lista planets y mostrarla\n",
    "\n",
    "planets = ['Mercurio', 'Venus', 'Earth', 'Mars', 'Jupiter', 'Saturn', 'Uranus', 'Neptune']\n",
    "num_planets = len(planets)\n",
    "print('There are', num_planets, 'planets in the solar system')"
   ]
  },
  {
   "cell_type": "code",
   "execution_count": 31,
   "metadata": {},
   "outputs": [
    {
     "name": "stdout",
     "output_type": "stream",
     "text": [
      "There are 9 planets in the solar system, and the last one is:  Pluto\n"
     ]
    }
   ],
   "source": [
    "planets.append('Pluto')\n",
    "num_planets = len(planets)\n",
    "print('There are', num_planets, 'planets in the solar system, and the last one is: ', planets[-1])"
   ]
  },
  {
   "cell_type": "markdown",
   "metadata": {},
   "source": [
    "Ejercicio 2. Trabajando con datos de una lista"
   ]
  },
  {
   "cell_type": "code",
   "execution_count": 55,
   "metadata": {},
   "outputs": [
    {
     "name": "stdout",
     "output_type": "stream",
     "text": [
      "You choose the planet:  Mars\n",
      "These planets are closer to the sun than Mars : ['Mercury', 'Venus', 'Earth'] .\n"
     ]
    }
   ],
   "source": [
    "#lista de planetas\n",
    "\n",
    "planets = ['Mercury', 'Venus', 'Earth', 'Mars', ' Jupiter', 'Saturn', 'Ureanus', 'Neptune']\n",
    "\n",
    "#solicitamos al usuario nombre de un planeta\n",
    "\n",
    "planet= input('Please, enter the name of the planet (start with a capital letter)')\n",
    "\n",
    "#encuentra el planeta en la lista\n",
    "\n",
    "planet_index = planets.index(planet)\n",
    "print('You choose the planet: ', planet)\n",
    "\n",
    "#mostrar los planetas más cercanos al sol, que el que eligió el usuario\n",
    "print('These planets are closer to the sun than', planet, ':', planets[0: planet_index], '.')\n",
    "\n"
   ]
  }
 ],
 "metadata": {
  "interpreter": {
   "hash": "323dd8c1eab61c643a1d5c16cfd9bbb9ca17dbbf95ae354016c0c3942bbccd1a"
  },
  "kernelspec": {
   "display_name": "Python 3.10.2 64-bit (windows store)",
   "language": "python",
   "name": "python3"
  },
  "language_info": {
   "codemirror_mode": {
    "name": "ipython",
    "version": 3
   },
   "file_extension": ".py",
   "mimetype": "text/x-python",
   "name": "python",
   "nbconvert_exporter": "python",
   "pygments_lexer": "ipython3",
   "version": "3.10.2"
  },
  "orig_nbformat": 4
 },
 "nbformat": 4,
 "nbformat_minor": 2
}
