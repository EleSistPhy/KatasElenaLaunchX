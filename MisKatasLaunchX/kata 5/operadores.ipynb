{
 "cells": [
  {
   "cell_type": "markdown",
   "metadata": {},
   "source": [
    "Uso de operadores aritméticos"
   ]
  },
  {
   "cell_type": "code",
   "execution_count": 8,
   "metadata": {},
   "outputs": [
    {
     "name": "stdout",
     "output_type": "stream",
     "text": [
      "La distancia entre la Tierra y Marte es de:  628949330 km o 390577534 millas\n"
     ]
    }
   ],
   "source": [
    "# creación de variables que almacenan distancias\n",
    "\n",
    "from math import ceil\n",
    "Tierra = 149597870\n",
    "Jupiter = 778547200\n",
    "\n",
    "distancia = abs(Tierra - Jupiter)\n",
    "distancia_millas = ceil(distancia * (0.621))\n",
    "\n",
    "print(\"La distancia entre la Tierra y Marte es de: \", distancia, \"km\", \"o\", distancia_millas, \"millas\")"
   ]
  },
  {
   "cell_type": "markdown",
   "metadata": {},
   "source": [
    "Convertir cadenas en números y usar valores absolutos"
   ]
  },
  {
   "cell_type": "code",
   "execution_count": 3,
   "metadata": {},
   "outputs": [
    {
     "name": "stdout",
     "output_type": "stream",
     "text": [
      "la distancia entre el Sol y Marte es de:  227900000 km\n",
      "La distancia entre el Sol y Mercurio es de:  57900000 km\n"
     ]
    }
   ],
   "source": [
    "#Entrada del usuario\n",
    "#Convertir cadenas a enteros\n",
    "\n",
    "distancia_Marte = int(input(\"Introduce la distancia entre Marte y el Sol\"))\n",
    "print(\"la distancia entre el Sol y Marte es de: \", distancia_Marte, \"km\")\n",
    "distancia_Mercurio = int(input(\"Introduce la distancia entre Mercurio y el Sol\"))\n",
    "print(\"La distancia entre el Sol y Mercurio es de: \", distancia_Mercurio, \"km\")"
   ]
  },
  {
   "cell_type": "code",
   "execution_count": 7,
   "metadata": {},
   "outputs": [
    {
     "name": "stdout",
     "output_type": "stream",
     "text": [
      "La distancia entre Marte y Mercurio es de:  170000000 km o 105570000 millas\n"
     ]
    }
   ],
   "source": [
    "#Realizar cálculo y convertir a valor absoluto, convertir de km a millas\n",
    "\n",
    "distancia_planetas_km = abs(distancia_Mercurio - distancia_Marte)\n",
    "distancia_millas = int(distancia_planetas_km * 0.621)\n",
    "\n",
    "print(\"La distancia entre Marte y Mercurio es de: \", distancia_planetas_km, \"km\", \"o\", distancia_millas, \"millas\")\n"
   ]
  }
 ],
 "metadata": {
  "interpreter": {
   "hash": "323dd8c1eab61c643a1d5c16cfd9bbb9ca17dbbf95ae354016c0c3942bbccd1a"
  },
  "kernelspec": {
   "display_name": "Python 3.10.2 64-bit (windows store)",
   "language": "python",
   "name": "python3"
  },
  "language_info": {
   "codemirror_mode": {
    "name": "ipython",
    "version": 3
   },
   "file_extension": ".py",
   "mimetype": "text/x-python",
   "name": "python",
   "nbconvert_exporter": "python",
   "pygments_lexer": "ipython3",
   "version": "3.10.2"
  },
  "orig_nbformat": 4
 },
 "nbformat": 4,
 "nbformat_minor": 2
}
